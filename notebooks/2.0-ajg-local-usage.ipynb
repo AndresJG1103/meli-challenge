{
 "cells": [
  {
   "cell_type": "markdown",
   "metadata": {},
   "source": [
    "# Imports"
   ]
  },
  {
   "cell_type": "code",
   "execution_count": 2,
   "metadata": {},
   "outputs": [],
   "source": [
    "import numpy as np\n",
    "import logging\n",
    "import os\n",
    "\n",
    "import random\n",
    "import matplotlib.pyplot as plt\n",
    "import time\n",
    "\n",
    "from typing import List\n",
    "\n",
    "from dotenv import load_dotenv\n",
    "load_dotenv()\n",
    "\n",
    "logger = logging.getLogger()\n",
    "logger.setLevel(logging.INFO)"
   ]
  },
  {
   "cell_type": "markdown",
   "metadata": {},
   "source": [
    "# Utils"
   ]
  },
  {
   "cell_type": "code",
   "execution_count": 8,
   "metadata": {},
   "outputs": [],
   "source": [
    "def check_sequence(matrix, row, col, dr, dc):\n",
    "    char = matrix[row][col]\n",
    "    for i in range(1, 4):\n",
    "        r, c = row + i * dr, col + i * dc\n",
    "        if not (0 <= r < len(matrix) and 0 <= c < len(matrix)) or matrix[r][c] != char:\n",
    "            return False\n",
    "    return True\n",
    "\n",
    "def search_mutant(matrix: np.array) -> bool:\n",
    "    n = len(matrix)\n",
    "    directions = [(0, 1), (1, 0), (1, 1), (1, -1)]  # Horizontal, vertical, diagonal derecha y diagonal izquierda\n",
    "    for row in range(n):\n",
    "        for col in range(n):\n",
    "            for dr, dc in directions:\n",
    "                if check_sequence(matrix, row, col, dr, dc):\n",
    "                    return True\n",
    "    return False\n",
    "\n",
    "def is_square_matrix(m: np.array) -> bool:\n",
    "    return m.shape[0] == m.shape[1]\n",
    "\n",
    "def dna_to_matrix(dna: List[str]) -> np.array:\n",
    "    return np.array([list(row) for row in dna])\n",
    "\n",
    "def process_dna(dna: List[str]):\n",
    "    \n",
    "    matrix = np.array(dna_to_matrix(dna))\n",
    "    print(matrix, end='\\n\\n')\n",
    "    assert is_square_matrix(matrix), 'dna no cumple con formato: Matriz cuadrada NxN'\n",
    " \n",
    "    return search_mutant(matrix)"
   ]
  },
  {
   "cell_type": "markdown",
   "metadata": {},
   "source": [
    "# Input DNA"
   ]
  },
  {
   "cell_type": "code",
   "execution_count": 9,
   "metadata": {},
   "outputs": [
    {
     "name": "stdout",
     "output_type": "stream",
     "text": [
      "[['A' 'T' 'G' 'C' 'G' 'A']\n",
      " ['C' 'A' 'G' 'T' 'G' 'C']\n",
      " ['T' 'T' 'A' 'T' 'G' 'T']\n",
      " ['A' 'G' 'A' 'A' 'G' 'G']\n",
      " ['C' 'C' 'C' 'C' 'T' 'A']\n",
      " ['T' 'C' 'A' 'C' 'T' 'G']]\n",
      "\n",
      "Is mutant: True\n"
     ]
    }
   ],
   "source": [
    "# ------------------------------- check dna ------------------------------- #\n",
    "dna = [\"ATGCGA\", \"CAGTGC\", \"TTATGT\", \"AGAAGG\", \"CCCCTA\", \"TCACTG\"]\n",
    "is_mutant = process_dna(dna)\n",
    "\n",
    "print(f'Is mutant: {is_mutant}')"
   ]
  }
 ],
 "metadata": {
  "kernelspec": {
   "display_name": "Python 3 (ipykernel)",
   "language": "python",
   "name": "python3"
  },
  "language_info": {
   "codemirror_mode": {
    "name": "ipython",
    "version": 3
   },
   "file_extension": ".py",
   "mimetype": "text/x-python",
   "name": "python",
   "nbconvert_exporter": "python",
   "pygments_lexer": "ipython3",
   "version": "3.12.5"
  }
 },
 "nbformat": 4,
 "nbformat_minor": 2
}
